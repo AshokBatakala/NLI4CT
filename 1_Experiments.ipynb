{
 "cells": [
  {
   "cell_type": "markdown",
   "metadata": {},
   "source": [
    "Ashok: on .182 , use nlp_1 conda env"
   ]
  },
  {
   "cell_type": "code",
   "execution_count": 1,
   "metadata": {},
   "outputs": [],
   "source": [
    "\n",
    "import os\n",
    "os.environ[\"CUDA_VISIBLE_DEVICES\"] = \"0\""
   ]
  },
  {
   "cell_type": "code",
   "execution_count": 2,
   "metadata": {},
   "outputs": [
    {
     "name": "stderr",
     "output_type": "stream",
     "text": [
      "/home/pikachu/anaconda3/envs/nlp_1/lib/python3.7/site-packages/tqdm/auto.py:21: TqdmWarning: IProgress not found. Please update jupyter and ipywidgets. See https://ipywidgets.readthedocs.io/en/stable/user_install.html\n",
      "  from .autonotebook import tqdm as notebook_tqdm\n"
     ]
    }
   ],
   "source": [
    "import torch\n",
    "from pipeline import prepare_data, task1_entailment,task2_evidence"
   ]
  },
  {
   "cell_type": "code",
   "execution_count": 3,
   "metadata": {},
   "outputs": [],
   "source": [
    "model_name = \"MoritzLaurer/DeBERTa-v3-large-mnli-fever-anli-ling-wanli\"\n",
    "# task1_entailment.train(model_name)\n",
    "# task2_evidence.train(model_name)"
   ]
  },
  {
   "cell_type": "markdown",
   "metadata": {},
   "source": [
    "# picking the misclassified examples"
   ]
  },
  {
   "cell_type": "code",
   "execution_count": 4,
   "metadata": {},
   "outputs": [
    {
     "name": "stderr",
     "output_type": "stream",
     "text": [
      "/home/pikachu/anaconda3/envs/nlp_1/lib/python3.7/site-packages/transformers/tokenization_utils_base.py:2421: FutureWarning: The `truncation_strategy` argument is deprecated and will be removed in a future version, use `truncation=True` to truncate examples to a max length. You can give a specific length with `max_length` (e.g. `max_length=45`) or leave max_length to None to truncate to the maximal input size of the model (e.g. 512 for Bert).  If you have pairs of inputs, you can give a specific truncation strategy selected among `truncation='only_first'` (will only truncate the first sentence in the pairs) `truncation='only_second'` (will only truncate the second sentence in the pairs) or `truncation='longest_first'` (will iteratively remove tokens from the longest sentence in the pairs).\n",
      "  FutureWarning,\n"
     ]
    }
   ],
   "source": [
    "from pipeline.prepare_data import generate_nli_data\n",
    "from pipeline.task1_entailment import CtDataset\n",
    "from transformers import AutoTokenizer, AutoModelForSequenceClassification\n",
    "\n",
    "# trained model checkpoint\n",
    "model_nli_path = \"storage/model-nli\"\n",
    "DEV_PATH = \"data/dev.json\"\n",
    "\n",
    "\n",
    "# load model and tokenizer\n",
    "tokenizer = AutoTokenizer.from_pretrained(model_nli_path, model_max_length=1024)\n",
    "model = AutoModelForSequenceClassification.from_pretrained(model_nli_path,\n",
    "                                num_labels=2, ignore_mismatched_sizes=True)\n",
    "\n",
    "\n",
    "joint_dev, labels_dev= generate_nli_data(DEV_PATH)\n",
    "\n",
    "encoded_dev = tokenizer(joint_dev, return_tensors='pt',\n",
    "                        truncation_strategy='only_first', add_special_tokens=True, padding=True)\n",
    "dev_dataset = CtDataset(encoded_dev, labels_dev)\n"
   ]
  },
  {
   "cell_type": "code",
   "execution_count": null,
   "metadata": {},
   "outputs": [],
   "source": [
    "device = \"cuda\" if torch.cuda.is_available() else \"cpu\"\n",
    "\n",
    "incorrect_sample_ids = []\n",
    "\n",
    "N_SAMPLES = 200\n",
    "# checks the first N_SAMPLES samples; len(dev_dataset) = 200\n",
    "for i in range(N_SAMPLES):\n",
    "    one_sample = dev_dataset[i]\n",
    "    input_ids = one_sample['input_ids'].unsqueeze(0).to(device)\n",
    "    attention_mask = one_sample['attention_mask'].unsqueeze(0).to(device)\n",
    "    label = one_sample['labels'].unsqueeze(0).to(device)\n",
    "\n",
    "    model.to(device)\n",
    "    model.eval()\n",
    "\n",
    "    with torch.no_grad():\n",
    "        logits = model(input_ids, attention_mask=attention_mask).logits\n",
    "        pred = logits.argmax(dim=1)\n",
    "        # print(pred, label)\n",
    "        if pred != label:\n",
    "            incorrect_sample_ids.append(i)\n",
    "            \n",
    "        "
   ]
  },
  {
   "cell_type": "code",
   "execution_count": 9,
   "metadata": {},
   "outputs": [
    {
     "name": "stdout",
     "output_type": "stream",
     "text": [
      "5 6 8 12 18 25 30 34 48 68 71 76 81 87 91 96 103 108 109 110 116 125 127 128 138 157 162 165 166 167 168 170 177 181 183 189 190 195\n"
     ]
    }
   ],
   "source": [
    "# saveing the incorrect sample ids. so that i dont have to run the above code again\n",
    "incorrect_sample_ids = \"5 6 8 12 18 25 30 34 48 68 71 76 81 87 91 96 103 108 109 110 116 125 127 128 138 157 162 165 166 167 168 170 177 181 183 189 190 195\".split()\n",
    "incorrect_sample_ids = [int(i) for i in incorrect_sample_ids]\n",
    "\n",
    "print(*incorrect_sample_ids)"
   ]
  },
  {
   "cell_type": "code",
   "execution_count": null,
   "metadata": {},
   "outputs": [
    {
     "name": "stdout",
     "output_type": "stream",
     "text": [
      "claim: \n",
      "only patients with a HER2-positive status can take part in the primary trial  \n",
      "\n",
      "premise: \n",
      " primary trial:   HER2-positive status (patients who have unknown HER2 status, and for whom determination of HER2 status is not possible, are eligible for this study).  \n",
      "label: Contradiction\n",
      "--------------------------------------------------\n",
      "claim: \n",
      "the shortest PFS in cohort 1 of the primary trial was under 7 months, in cohort 2 the shortest was just over 7 months  \n",
      "\n",
      "premise: \n",
      " primary trial: Outcome Measurement:    Progression-Free Survival (PFS)   Progression-free survival will be measured from Day 1 of study drug administration to disease progression defined by Response Evaluation Criteria in Solid Tumors Criteria (RECIST v1.1) as a 20% increase in the sum of the longest diameter of target lesions, or a measurable increase in a non-target lesion, or the appearance of new lesions   Time frame: every 8 weeks until progressive disease, expected average of 18 months Results 1:    Arm/Group Title: Paclitaxel/Bevacizumab/Everolimus   Arm/Group Description: Systemic Therapy   Overall Number of Participants Analyzed: 56   Median (95% Confidence Interval)   Unit of Measure: months  9.1        (6.8 to 10.8) Results 2:    Arm/Group Title: Paclitaxel/Bevacizumab/Placebo   Arm/Group Description: Systemic Therapy   Overall Number of Participants Analyzed: 57   Median (95% Confidence Interval)   Unit of Measure: months  7.1        (5.6 to 10.8)  \n",
      "label: Contradiction\n",
      "--------------------------------------------------\n",
      "claim: \n",
      "the outcome measurement of the primary trial is The length of time during and after the treatment that a patient survives with the disease   \n",
      "\n",
      "premise: \n",
      " primary trial: Outcome Measurement:    Progression-free Survival (PFS) and to Evaluate Safety of the Trastuzumab, Bevacizumab and Docetaxel Regimen.  \n",
      "label: Contradiction\n",
      "--------------------------------------------------\n",
      "claim: \n",
      "The the primary trial results section reports two different measurements, for all 3 cohorts.  \n",
      "\n",
      "premise: \n",
      " primary trial: Outcome Measurement:    Proportion of Sentinel Lymph Nodes (SLNs) Flagged by the Two Methods   Let A be the number of Tc-positive and ICG-positive sentinel nodes (SNs) detected, B be the number of Tc-positive and ICG-negative SNs detected, and C be the number of Tc-negative and ICG-positive SNs detected. The total number (N) of SNs detected is therefore N = (A + B + C); the proportion of SNs detected by the Tc method (PTc) is (A + B)/N; and the proportion of SNs detected by the ICG method (PICG) is (A + C)/N. Differences in the proportions of SLNs flagged will be compared using a two-sided 95% confidence interval.   Time frame: Baseline Results 1:    Arm/Group Title: Diagnostic (Indocyanine Green, 99mTc-labeled Radiotracer)   Arm/Group Description: Participants receive technetium Tc-99m sulfur colloid injection and undergo lymphoscintigraphy according to clinical practice. Prior to surgery, participants also receive indocyanine green solution subdermally close to the tumor or into subareolar region of the breast skin. Participants then undergo Axillary Lymph Node Biopsy and surgery.   Overall Number of Participants Analyzed: 92   Measure Type: Number   Unit of Measure: proportion of nodes  Proportion of SNs (PTc) detected by Tc method: 0.86   Proportion of SNs (PICG) detected by ICG method: 0.95  \n",
      "label: Contradiction\n",
      "--------------------------------------------------\n",
      "claim: \n",
      "Diarrhoea is the most common adverse event in the primary trial and the secondary trial  \n",
      "\n",
      "premise: \n",
      " primary trial: Adverse Events 1:   Total: 17/65 (26.15%)   Febrile neutropenia 3/65 (4.62%)   Neutropenia 2/65 (3.08%)   Pancytopenia 1/65 (1.54%)   Thrombocytopenia 1/65 (1.54%)   Cardiac arrest 2/65 (3.08%)   Myocardial infarction 1/65 (1.54%)   Diarrhoea 5/65 (7.69%)   Stomatitis 1/65 (1.54%)   Vomiting 2/65 (3.08%)   Fatigue 1/65 (1.54%)   Jaundice 1/65 (1.54%)   Neutropenic infection 2/65 (3.08%)  | secondary trial: Adverse Events 1:   Total: 173/472 (36.65%)   Anaemia 6/472 (1.27%)   Febrile neutropenia 4/472 (0.85%)   Iron deficiency anaemia 1/472 (0.21%)   Leukopenia 2/472 (0.42%)   Neutropenia 2/472 (0.42%)   Thrombocytopenia 4/472 (0.85%)   Acute myocardial infarction 1/472 (0.21%)   Aortic valve incompetence 0/472 (0.00%)   Atrial fibrillation 2/472 (0.42%)   Cardiac arrest 1/472 (0.21%) Adverse Events 2:   Total: 40/238 (16.81%)   Anaemia 0/238 (0.00%)   Febrile neutropenia 1/238 (0.42%)   Iron deficiency anaemia 0/238 (0.00%)   Leukopenia 0/238 (0.00%)   Neutropenia 2/238 (0.84%)   Thrombocytopenia 0/238 (0.00%)   Acute myocardial infarction 0/238 (0.00%)   Aortic valve incompetence 1/238 (0.42%)   Atrial fibrillation 0/238 (0.00%)   Cardiac arrest 0/238 (0.00%)  \n",
      "label: Contradiction\n",
      "--------------------------------------------------\n",
      "claim: \n",
      "there were 4 types of Adverse events which did not affect any of the patients in cohort 1 of the primary trial  \n",
      "\n",
      "premise: \n",
      " primary trial: Adverse Events 1:   Total: 4/65 (6.15%)   Thrombocytopenia * 0/65 (0.00%)   Anaemia * 20/65 (0.00%)   Febrile neutropenia * 20/65 (0.00%)   Leukopenia * 20/65 (0.00%)   Neutropenia * 20/65 (0.00%)   Pericardial effusion * 20/65 (0.00%)   Tachycardia * 20/65 (0.00%)   Nausea * 0/65 (0.00%)   Vomiting * 21/65 (1.54%)   Constipation * 20/65 (0.00%)   Abdominal pain * 20/65 (0.00%)  \n",
      "label: Contradiction\n",
      "--------------------------------------------------\n",
      "claim: \n",
      "None of the individual Aes recorded in the primary trial affect more than than one patient  \n",
      "\n",
      "premise: \n",
      " primary trial: Adverse Events 1:   Total: 18/100 (18.00%)   Anaemia * 4/100 (4.00%)   Febrile neutropenia * 3/100 (3.00%)   Neutropenia * 1/100 (1.00%)   Pancytopenia * 0/100 (0.00%)   Thrombocytopenia * 1/100 (1.00%)   Acute coronary syndrome * 1/100 (1.00%)   Stress cardiomyopathy * 0/100 (0.00%)   Abdominal pain * 0/100 (0.00%)   Abdominal pain upper * 0/100 (0.00%)   Ascites * 1/100 (1.00%)  \n",
      "label: Contradiction\n",
      "--------------------------------------------------\n",
      "claim: \n",
      "Febrile Neutropenia was the most common adverse event recorded in the primary trial, affecting most patients in the trial  \n",
      "\n",
      "premise: \n",
      " primary trial: Adverse Events 1:   Total: 11/56 (19.64%)   Febrile Neutropenia * 3/56 (5.36%)   Neutropenia * 1/56 (1.79%)   Pancytopenia * 1/56 (1.79%)   Atrial Fibrillation * 1/56 (1.79%)   Coronary Artery Disease * 1/56 (1.79%)   Constipation * 1/56 (1.79%)   Chest Pain * 1/56 (1.79%)   Non-Cardiac Chest Pain * 1/56 (1.79%)   Edema due to Cardiac Disease * 1/56 (1.79%)   Cellulitis * 1/56 (1.79%)  \n",
      "label: Contradiction\n",
      "--------------------------------------------------\n",
      "claim: \n",
      "All patients in the primary trial receive higher doses of BKM120 than patients in the secondary trial  \n",
      "\n",
      "premise: \n",
      " primary trial: INTERVENTION 1:    BKM120 and Paclitaxel   Adult females with histologically confirmed, inoperable, locally advanced or metastatic HER2- BC who received study drug plus paclitaxel INTERVENTION 2:    Placebo and Paclitaxel   Adult females with histologically confirmed, inoperable, locally advanced or metastatic HER2- BC who received placebo plus paclitaxel  | secondary trial: INTERVENTION 1:    Active Breathing Coordinator   Patients breathe through the ABC device   Active Breathing Coordinator (ABC) : The generated dose distributions from the free-breathing versus ABC plans will be compared to assess the volume of normal tissue, as well as target volume irradiated, utilizing dose-volume histograms.  \n",
      "label: Contradiction\n",
      "--------------------------------------------------\n",
      "claim: \n",
      "ongoing flucytosine treatments are necessary for all participants of the primary trial, treatments must have started at least 6 months before study entry  \n",
      "\n",
      "premise: \n",
      " primary trial:   Being treated with flucytosine  \n",
      "label: Contradiction\n",
      "--------------------------------------------------\n",
      "claim: \n",
      "There were multiple patients which suffered Neutropenia in both cohorts of the primary trial  \n",
      "\n",
      "premise: \n",
      " primary trial: Adverse Events 1:   Total: 3/39 (7.69%)   Neutropenia  1/39 (2.56%) Adverse Events 2:   Total: 3/21 (14.29%)   Neutropenia  1/21 (4.76%)  \n",
      "label: Contradiction\n",
      "--------------------------------------------------\n",
      "claim: \n",
      "a patient with a HER2-positive status can not take part in the primary trial  \n",
      "\n",
      "premise: \n",
      " primary trial:   HER2-positive status (patients who have unknown HER2 status, and for whom determination of HER2 status is not possible, are eligible for this study).  \n",
      "label: Entailment\n",
      "--------------------------------------------------\n",
      "claim: \n",
      "several cases of congestive heart failure in the primary trial occurred in cohort 1, but none in cohort 2  \n",
      "\n",
      "premise: \n",
      " primary trial: Adverse Events 1:   Total: 1/35 (2.86%)   congestive heart failure *1/35 (2.86%) Adverse Events 2:   Total: 0/40 (0.00%)   congestive heart failure *0/40 (0.00%)  \n",
      "label: Contradiction\n",
      "--------------------------------------------------\n",
      "claim: \n",
      "Most patients in the primary trial experienced a grade 1 adverse events, the least common severity was grade 4.  \n",
      "\n",
      "premise: \n",
      " primary trial: Outcome Measurement:    Severity of Adverse Events   Adverse events (AEs) grading was completed according to the National Cancer Institute (NCI) Common Terminology Criteria for Adverse Events (CTCAE), version 4.03.   Time frame: From cycle 1 up to approximately 3 years Results 1:    Arm/Group Title: Trastuzumab Emtansine   Arm/Group Description: 3.6 mg/kg of trastuzumab emtansine was administered to participants intravenously (IV) over 30-90 minutes on day 1 of 21 day cycle and was repeated every 3 weeks.   Overall Number of Participants Analyzed: 70   Measure Type: Count of Participants   Unit of Measure: Participants  Grade 1: 53  75.7%   Grade 2: 40  57.1%   Grade 3: 18  25.7%   Grade 4: 2   2.9%   Grade 5: 12  17.1%  \n",
      "label: Entailment\n",
      "--------------------------------------------------\n",
      "claim: \n",
      "the primary trial participants receive significantly higher doses of Capecitabine than of Lapatinib  \n",
      "\n",
      "premise: \n",
      " primary trial: INTERVENTION 1:    Lapatinib 1250 mg and Capecitabine 2000 mg/m^2   Participants took lapatinib and capecitabine. Lapatinib was orally administered at 1250 milligrams (mg) once daily. Capecitabine was orally administered at 1000 mg per square meter (mg/m^2) twice daily on the first day through the fourteenth day of each 21-day cycle.  \n",
      "label: Entailment\n",
      "--------------------------------------------------\n",
      "claim: \n",
      "the secondary trial and the primary trial use Objective Response as the outcome measurement for their interventions, however they use different definitions of complete response   \n",
      "\n",
      "premise: \n",
      " primary trial: Outcome Measurement:    Objective Response Rate (ORR)   An objective response (OR) is defined as a patient having a best overall response of either complete response (CR) or partial response (PR). A patient has best overall response of CR if she had overall response of CR or PR on one visit and met the confirmation criteria per RECIST. ORR is defined as percentage of patients with objective response.   Each patient with measurable disease at baseline was assessed for OR from the sequence of Response Evaluation Criteria in Solid Tumors (RECIST) scan data up to data cut-off. RECIST scans were performed every 12 weeks (+/- 2weeks) from randomization   Time frame: baseline and every 12 weeks (+/- 2weeks) from randomization data up to data cut-off (19th march 2008)  | secondary trial: Outcome Measurement:    Objective Response (OR)   OR is defined as complete response (CR) and partial response (PR) and was assessed according to the Response Evaluation Criteria in Solid Tumours version 1.0 (RECIST). OR was primary endpoint only for Cohort B.   Time frame: Tumour assessments were performed at screening, week 8, week 16, week 24, and every 8 weeks thereafter.  \n",
      "label: Contradiction\n",
      "--------------------------------------------------\n"
     ]
    }
   ],
   "source": [
    "for idx in incorrect_sample_ids:\n",
    "    claim, premise = joint_dev[idx].split(\"[SEP]\")\n",
    "    #inverse of the label mapping\n",
    "    label = \"Entailment\" if labels_dev[idx] == 1 else \"Contradiction\"\n",
    "    \n",
    "    print(f\"claim: \\n{claim} \\n\\npremise: \\n{premise} \\nlabel: {label}\")\n",
    "    print(\"-\"*50)\n",
    "    # break"
   ]
  },
  {
   "cell_type": "markdown",
   "metadata": {},
   "source": [
    "## check the distribution on section_id's and types"
   ]
  },
  {
   "cell_type": "code",
   "execution_count": 23,
   "metadata": {},
   "outputs": [
    {
     "name": "stdout",
     "output_type": "stream",
     "text": [
      "returning sections and types\n",
      "warning: Please make sure that you really want to return sections and types.\n",
      "{'Eligibility': 7, 'Results': 13, 'Adverse Events': 14, 'Intervention': 4}\n",
      "{'Single': 26, 'Comparison': 12}\n"
     ]
    }
   ],
   "source": [
    "sections, types = generate_nli_data(DEV_PATH,return_sections_types=True)\n",
    "\n",
    "# count the number of incorrect samples in each section\n",
    "incorrect_sections = {}\n",
    "for idx in incorrect_sample_ids:\n",
    "    section = sections[idx]\n",
    "    incorrect_sections[section] = incorrect_sections.get(section, 0) + 1\n",
    "print(incorrect_sections)\n",
    "\n",
    "#count the number of incorrect samples in each type\n",
    "incorrect_types = {}\n",
    "for idx in incorrect_sample_ids:\n",
    "    type_ = types[idx]\n",
    "    incorrect_types[type_] = incorrect_types.get(type_, 0) + 1\n",
    "print(incorrect_types)\n",
    "\n"
   ]
  },
  {
   "cell_type": "code",
   "execution_count": 25,
   "metadata": {},
   "outputs": [
    {
     "data": {
      "image/png": "[encoded data removed]",
      "text/plain": [
       "<Figure size 500x250 with 1 Axes>"
      ]
     },
     "metadata": {},
     "output_type": "display_data"
    },
    {
     "data": {
      "image/png": "[encoded data removed]",
      "text/plain": [
       "<Figure size 500x250 with 1 Axes>"
      ]
     },
     "metadata": {},
     "output_type": "display_data"
    }
   ],
   "source": [
    "import matplotlib.pyplot as plt\n",
    "import seaborn as sns\n",
    "import pandas as pd\n",
    "df = pd.DataFrame(list(incorrect_sections.items()), columns=[\"Section\", \"Incorrect Samples\"])\n",
    "\n",
    "plt.figure(figsize=(5, 2.5))\n",
    "sns.barplot(x=\"Section\", y=\"Incorrect Samples\", data=df)\n",
    "plt.xticks(rotation=90)\n",
    "plt.show()\n",
    "\n",
    "\n",
    "df = pd.DataFrame(list(incorrect_types.items()), columns=[\"Type\", \"Incorrect Samples\"])\n",
    "plt.figure(figsize=(5, 2.5))\n",
    "sns.barplot(x=\"Type\", y=\"Incorrect Samples\", data=df)\n",
    "plt.xticks(rotation=90)\n",
    "plt.show()"
   ]
  },
  {
   "cell_type": "code",
   "execution_count": 37,
   "metadata": {},
   "outputs": [
    {
     "name": "stdout",
     "output_type": "stream",
     "text": [
      "{'Results': 56, 'Eligibility': 56, 'Adverse Events': 52, 'Intervention': 36}\n",
      "{'Single': 140, 'Comparison': 60}\n",
      "\n",
      "Ratios for sections \n",
      "---------------\n",
      "Results : 0.23214285714285715\n",
      "Eligibility : 0.125\n",
      "Adverse Events : 0.2692307692307692\n",
      "Intervention : 0.1111111111111111\n",
      "\n",
      "Ratios for types \n",
      "-----------------\n",
      "Single : 0.18571428571428572\n",
      "Comparison : 0.2\n"
     ]
    }
   ],
   "source": [
    "# compare the ratio of sections in devset and incorrect samples\n",
    "sections_count_in_dev = {}\n",
    "for section in sections:\n",
    "    sections_count_in_dev[section] = sections_count_in_dev.get(section, 0) + 1\n",
    "print(sections_count_in_dev)\n",
    "\n",
    "types_count_in_dev = {}\n",
    "for type_ in types:\n",
    "    types_count_in_dev[type_] = types_count_in_dev.get(type_, 0) + 1\n",
    "    \n",
    "print(types_count_in_dev, end=\"\\n\\n\")\n",
    "\n",
    "\n",
    "print(\"Ratios for sections \\n---------------\")\n",
    "for section in sections_count_in_dev:\n",
    "    print(section,\":\" , incorrect_sections.get(section, 0)/sections_count_in_dev[section])\n",
    "    \n",
    "print(\"\\nRatios for types \\n-----------------\")\n",
    "for type_ in types_count_in_dev:\n",
    "    print(type_, \":\", incorrect_types.get(type_, 0)/types_count_in_dev[type_])"
   ]
  },
  {
   "cell_type": "code",
   "execution_count": 38,
   "metadata": {},
   "outputs": [
    {
     "data": {
      "image/png": "[encoded data removed]",
      "text/plain": [
       "<Figure size 500x250 with 1 Axes>"
      ]
     },
     "metadata": {},
     "output_type": "display_data"
    }
   ],
   "source": [
    " # plot both in same graph overlayed\n",
    "df = pd.DataFrame(list(sections_count_in_dev.items()), columns=[\"Section\", \"Count\"])\n",
    "df[\"Type\"] = \"Dev\"\n",
    "df2 = pd.DataFrame(list(incorrect_sections.items()), columns=[\"Section\", \"Count\"])\n",
    "df2[\"Type\"] = \"Incorrect\"\n",
    "df = pd.concat([df, df2])\n",
    "\n",
    "plt.figure(figsize=(5, 2.5))\n",
    "sns.barplot(x=\"Section\", y=\"Count\", data=df, hue=\"Type\")\n",
    "plt.xticks(rotation=90)\n",
    "plt.show()\n",
    "\n",
    "# df = pd.DataFrame(list(types_count_in_dev.items()), columns=[\"Type\", \"Count\"])\n",
    "# df[\"Type\"] = \"Dev\"\n",
    "# df2 = pd.DataFrame(list(incorrect_types.items()), columns=[\"Type\", \"Count\"])\n",
    "# df2[\"Type\"] = \"Incorrect\"\n",
    "# df = pd.concat([df, df2])\n",
    "\n",
    "# plt.figure(figsize=(5, 2.5))\n",
    "# sns.barplot(x=\"Type\", y=\"Count\", data=df, hue=\"Type\")\n",
    "# plt.xticks(rotation=90)\n",
    "# plt.show()\n"
   ]
  },
  {
   "cell_type": "code",
   "execution_count": null,
   "metadata": {},
   "outputs": [],
   "source": []
  }
 ],
 "metadata": {
  "kernelspec": {
   "display_name": "nlp_1",
   "language": "python",
   "name": "python3"
  },
  "language_info": {
   "codemirror_mode": {
    "name": "ipython",
    "version": 3
   },
   "file_extension": ".py",
   "mimetype": "text/x-python",
   "name": "python",
   "nbconvert_exporter": "python",
   "pygments_lexer": "ipython3",
   "version": "3.7.12"
  }
 },
 "nbformat": 4,
 "nbformat_minor": 2
}

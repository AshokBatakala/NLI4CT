{
 "cells": [
  {
   "cell_type": "code",
   "execution_count": null,
   "metadata": {},
   "outputs": [],
   "source": [
    "# \toverall \tsection 1\tsection 2 \tsection 3\tsection 4\n",
    "# chatgpt 3.5\t\t\t\t\t\n",
    "# bingchat\t\t\t\t\t\n",
    "# gemini\t\t\t\t\t\n",
    "\t\t\t\t\t"
   ]
  }
 ],
 "metadata": {
  "language_info": {
   "name": "python"
  }
 },
 "nbformat": 4,
 "nbformat_minor": 2
}
